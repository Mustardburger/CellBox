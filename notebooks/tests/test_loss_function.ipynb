{
 "cells": [
  {
   "cell_type": "markdown",
   "metadata": {},
   "source": [
    "## Test the loss functions defined by Pytorch and Tensorflow"
   ]
  },
  {
   "cell_type": "code",
   "execution_count": 9,
   "metadata": {},
   "outputs": [],
   "source": [
    "import numpy as np\n",
    "import tensorflow.compat.v1 as tf\n",
    "import cellbox\n",
    "import torch\n",
    "tf.disable_v2_behavior()"
   ]
  },
  {
   "cell_type": "markdown",
   "metadata": {},
   "source": [
    "### Test cases"
   ]
  },
  {
   "cell_type": "code",
   "execution_count": 24,
   "metadata": {},
   "outputs": [],
   "source": [
    "x_gold = np.random.randn(50)\n",
    "x_hat = np.random.randn(50)\n",
    "W = np.random.randn(50, 50)\n",
    "l1 = 2.0\n",
    "l2 = 3.0\n",
    "weight = 2"
   ]
  },
  {
   "cell_type": "markdown",
   "metadata": {},
   "source": [
    "### Pytorch version"
   ]
  },
  {
   "cell_type": "code",
   "execution_count": 4,
   "metadata": {},
   "outputs": [],
   "source": [
    "def torch_loss(x_gold, x_hat, W, l1=0, l2=0, weight=1.):\n",
    "    \"\"\"\n",
    "    Evaluate loss\n",
    "\n",
    "    Args:\n",
    "        - x_gold, x_hat, W (torch.tensor)\n",
    "        - l1, l2, weight (float)\n",
    "    Returns:\n",
    "        - A single-value loss tensor, e.g. loss_mse = tensor(5)\n",
    "    \"\"\"\n",
    "    #if isinstance(x_gold, tf.SparseTensor):\n",
    "    #    x_gold = tf.sparse.to_dense(x_gold)\n",
    "    loss_mse = torch.mean(torch.square(x_gold - x_hat)*abs(weight))\n",
    "    l1_loss = l1 * torch.sum(torch.abs(W))\n",
    "    l2_loss = l2 * torch.sum(torch.square(torch.abs(W)))\n",
    "    loss_full = loss_mse + l1_loss + l2_loss\n",
    "    return loss_full, loss_mse"
   ]
  },
  {
   "cell_type": "code",
   "execution_count": 25,
   "metadata": {},
   "outputs": [
    {
     "name": "stdout",
     "output_type": "stream",
     "text": [
      "Torch loss full: 11456.501450835562\n",
      "Torch loss mse: 2.949534422946719\n"
     ]
    }
   ],
   "source": [
    "torch_loss_full, torch_loss_mse = torch_loss(torch.from_numpy(x_gold), torch.from_numpy(x_hat), torch.from_numpy(W), l1=l1, l2=l2, weight=weight)\n",
    "print(f\"Torch loss full: {torch_loss_full}\")\n",
    "print(f\"Torch loss mse: {torch_loss_mse}\")"
   ]
  },
  {
   "cell_type": "markdown",
   "metadata": {},
   "source": [
    "### Tensorflow version"
   ]
  },
  {
   "cell_type": "code",
   "execution_count": 11,
   "metadata": {},
   "outputs": [],
   "source": [
    "def tensorflow_loss(x_gold, x_hat, W, l1=0, l2=0, weight=1.):\n",
    "    \"\"\"evaluate loss\"\"\"\n",
    "    if isinstance(x_gold, tf.SparseTensor):\n",
    "        x_gold = tf.sparse.to_dense(x_gold)\n",
    "\n",
    "    with tf.compat.v1.variable_scope(\"loss\", reuse=True):\n",
    "        loss_mse = tf.reduce_mean(tf.square(x_gold - x_hat) * tf.abs(weight))\n",
    "        l1_loss = l1 * tf.reduce_sum(tf.abs(W))\n",
    "        l2_loss = l2 * tf.reduce_sum(tf.square(tf.abs(W)))\n",
    "        loss_full = loss_mse + l1_loss + l2_loss\n",
    "    return loss_full, loss_mse"
   ]
  },
  {
   "cell_type": "code",
   "execution_count": 27,
   "metadata": {},
   "outputs": [
    {
     "name": "stdout",
     "output_type": "stream",
     "text": [
      "Tensorflow loss full: 11456.5009765625\n",
      "Tensorflow loss mse: 2.9495346546173096\n"
     ]
    }
   ],
   "source": [
    "tf_loss_full, tf_loss_mse = tensorflow_loss(np.float32(x_gold), np.float32(x_hat), np.float32(W), l1=np.float32(l1), l2=np.float32(l2), weight=np.float32(weight))\n",
    "tf_loss_full = tf_loss_full.eval(session=tf.compat.v1.Session())\n",
    "tf_loss_mse = tf_loss_mse.eval(session=tf.compat.v1.Session())\n",
    "print(f\"Tensorflow loss full: {tf_loss_full}\")\n",
    "print(f\"Tensorflow loss mse: {tf_loss_mse}\")"
   ]
  },
  {
   "cell_type": "code",
   "execution_count": 28,
   "metadata": {},
   "outputs": [
    {
     "name": "stdout",
     "output_type": "stream",
     "text": [
      "Difference between the loss full: 0.00047427306162717286\n",
      "Difference between the loss mse: 2.3167059071127483e-07\n"
     ]
    }
   ],
   "source": [
    "# print the difference\n",
    "print(f\"Difference between the loss full: {abs(torch_loss_full.item() - tf_loss_full)}\")\n",
    "print(f\"Difference between the loss mse: {abs(torch_loss_mse.item() - tf_loss_mse)}\")"
   ]
  }
 ],
 "metadata": {
  "kernelspec": {
   "display_name": "cellbox-3.6-2",
   "language": "python",
   "name": "python3"
  },
  "language_info": {
   "codemirror_mode": {
    "name": "ipython",
    "version": 3
   },
   "file_extension": ".py",
   "mimetype": "text/x-python",
   "name": "python",
   "nbconvert_exporter": "python",
   "pygments_lexer": "ipython3",
   "version": "3.8.0"
  },
  "orig_nbformat": 4
 },
 "nbformat": 4,
 "nbformat_minor": 2
}
