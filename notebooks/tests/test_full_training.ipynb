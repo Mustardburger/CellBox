{
 "cells": [
  {
   "cell_type": "code",
   "execution_count": 1,
   "metadata": {},
   "outputs": [
    {
     "name": "stderr",
     "output_type": "stream",
     "text": [
      "2023-08-23 21:03:57.178279: I tensorflow/core/platform/cpu_feature_guard.cc:193] This TensorFlow binary is optimized with oneAPI Deep Neural Network Library (oneDNN) to use the following CPU instructions in performance-critical operations:  AVX2 AVX512F AVX512_VNNI FMA\n",
      "To enable them in other operations, rebuild TensorFlow with the appropriate compiler flags.\n",
      "2023-08-23 21:03:57.351955: I tensorflow/core/util/port.cc:104] oneDNN custom operations are on. You may see slightly different numerical results due to floating-point round-off errors from different computation orders. To turn them off, set the environment variable `TF_ENABLE_ONEDNN_OPTS=0`.\n",
      "2023-08-23 21:03:57.356497: W tensorflow/compiler/xla/stream_executor/platform/default/dso_loader.cc:64] Could not load dynamic library 'libcudart.so.11.0'; dlerror: libcudart.so.11.0: cannot open shared object file: No such file or directory; LD_LIBRARY_PATH: /cm/shared/apps/lsf10/10.1/linux3.10-glibc2.17-x86_64/lib:/data/weirauchlab/opt/lib:/data/weirauchlab/opt/lib64:/data/weirauchlab/local/lib:/users/ngun7t/anaconda3/envs/cellbox-3.6-2/lib/:/users/ngun7t/anaconda3/envs/cellbox-3.6-2/lib/:/users/ngun7t/anaconda3/envs/cellbox-3.6-2/lib/\n",
      "2023-08-23 21:03:57.356514: I tensorflow/compiler/xla/stream_executor/cuda/cudart_stub.cc:29] Ignore above cudart dlerror if you do not have a GPU set up on your machine.\n",
      "2023-08-23 21:04:02.645844: W tensorflow/compiler/xla/stream_executor/platform/default/dso_loader.cc:64] Could not load dynamic library 'libnvinfer.so.7'; dlerror: libnvinfer.so.7: cannot open shared object file: No such file or directory; LD_LIBRARY_PATH: /cm/shared/apps/lsf10/10.1/linux3.10-glibc2.17-x86_64/lib:/data/weirauchlab/opt/lib:/data/weirauchlab/opt/lib64:/data/weirauchlab/local/lib:/users/ngun7t/anaconda3/envs/cellbox-3.6-2/lib/:/users/ngun7t/anaconda3/envs/cellbox-3.6-2/lib/:/users/ngun7t/anaconda3/envs/cellbox-3.6-2/lib/\n",
      "2023-08-23 21:04:02.646071: W tensorflow/compiler/xla/stream_executor/platform/default/dso_loader.cc:64] Could not load dynamic library 'libnvinfer_plugin.so.7'; dlerror: libnvinfer_plugin.so.7: cannot open shared object file: No such file or directory; LD_LIBRARY_PATH: /cm/shared/apps/lsf10/10.1/linux3.10-glibc2.17-x86_64/lib:/data/weirauchlab/opt/lib:/data/weirauchlab/opt/lib64:/data/weirauchlab/local/lib:/users/ngun7t/anaconda3/envs/cellbox-3.6-2/lib/:/users/ngun7t/anaconda3/envs/cellbox-3.6-2/lib/:/users/ngun7t/anaconda3/envs/cellbox-3.6-2/lib/\n",
      "2023-08-23 21:04:02.646099: W tensorflow/compiler/tf2tensorrt/utils/py_utils.cc:38] TF-TRT Warning: Cannot dlopen some TensorRT libraries. If you would like to use Nvidia GPU with TensorRT, please make sure the missing libraries mentioned above are installed properly.\n"
     ]
    },
    {
     "name": "stdout",
     "output_type": "stream",
     "text": [
      "WARNING:tensorflow:From /users/ngun7t/anaconda3/envs/cellbox-3.6-2/lib/python3.8/site-packages/tensorflow/python/compat/v2_compat.py:107: disable_resource_variables (from tensorflow.python.ops.variable_scope) is deprecated and will be removed in a future version.\n",
      "Instructions for updating:\n",
      "non-resource variables are not supported in the long term\n",
      "================================================================================\n",
      "   _____     _ _ ____              \n",
      "  / ____|   | | |  _ \\             \n",
      " | |     ___| | | |_) | _____  __  \n",
      " | |    / _ \\ | |  _ < / _ \\ \\/ /  \n",
      " | |___|  __/ | | |_) | (_) >  <   \n",
      "  \\_____\\___|_|_|____/ \\___/_/\\_\\  \n",
      "Running CellBox scripts developed in Sander lab\n",
      "Maintained by Bo Yuan, Judy Shen, and Augustin Luna; contributions by Daniel Ritter\n",
      "\n",
      "        version 0.3.2\n",
      "        -- Feb 10, 2023 --\n",
      "        * Modify CellBox to support TF2     \n",
      "        \n",
      "Tutorials and documentations are available at https://github.com/sanderlab/CellBox\n",
      "If you want to discuss the usage or to report a bug, please use the 'Issues' function at GitHub.\n",
      "If you find CellBox useful for your research, please consider citing the corresponding publication.\n",
      "For more information, please email us at boyuan@g.harvard.edu and c_shen@g.harvard.edu, augustin_luna@hms.harvard.edu\n",
      " --------------------------------------------------------------------------------\n"
     ]
    }
   ],
   "source": [
    "import numpy as np\n",
    "import cellbox\n",
    "import json\n",
    "import pickle"
   ]
  },
  {
   "cell_type": "markdown",
   "metadata": {},
   "source": [
    "Things to think about when making test cases for these:\n",
    "* Seed\n",
    "* Data partition method (do 3 things: RP, LOO, S2C). Drug index param\n",
    "* ODE options (tanh, polynomial, heun, euler)\n",
    "* Initialize similar weights"
   ]
  },
  {
   "cell_type": "code",
   "execution_count": 4,
   "metadata": {},
   "outputs": [],
   "source": [
    "with open(\"/users/ngun7t/Documents/cellbox-jun-6/configs_dev/test_cases/Case_1.json\", \"r\") as f:\n",
    "    base_case = json.load(f)"
   ]
  },
  {
   "cell_type": "code",
   "execution_count": 7,
   "metadata": {},
   "outputs": [
    {
     "data": {
      "text/plain": [
       "array([853, 748,  78, 233, 648])"
      ]
     },
     "execution_count": 7,
     "metadata": {},
     "output_type": "execute_result"
    }
   ],
   "source": [
    "seeds = np.random.randint(0, 1000, size=(5))\n",
    "seeds"
   ]
  },
  {
   "cell_type": "code",
   "execution_count": 17,
   "metadata": {},
   "outputs": [],
   "source": [
    "seeds = [853, 748,  78, 233, 648]\n",
    "drug_indices = [5, 10, 2, 8, 9]\n",
    "data_partitions = [\n",
    "    \"random partition\",\n",
    "    \"random partition with replicates\",\n",
    "    \"single to combo\",\n",
    "    \"leave one out (w/o single)\",\n",
    "    \"leave one out (w/ single)\"\n",
    "]\n",
    "# ode params: envelope_fn, ode_solver, polynomial_k \n",
    "# fixed ode params: dT = 0.1, ode_degree = 1, envelop = 0, \n",
    "odes = [\n",
    "    (\"tanh\", \"heun\", 0),\n",
    "    (\"polynomial\", \"euler\", 0),\n",
    "    (\"clip linear\", \"midpoint\", 0),\n",
    "    (\"polynomial\", \"heun\", 2),\n",
    "    (\"hill\", \"rk4\", 2)\n",
    "]\n",
    "\n",
    "base = {\n",
    "  \"experiment_id\": \"Test_cases_torch\",\n",
    "  \"experiment_type\": \"random partition\",\n",
    "  \"model\": \"CellBox\",\n",
    "  \"sparse_data\": False,\n",
    "  \"pert_file\": \"/users/ngun7t/Documents/cellbox-jun-6/data/pert.csv\",\n",
    "  \"expr_file\": \"/users/ngun7t/Documents/cellbox-jun-6/data/expr.csv\",\n",
    "  \"node_index_file\": \"/users/ngun7t/Documents/cellbox-jun-6/data/node_Index.csv\",\n",
    "  \"n_protein_nodes\": 82,\n",
    "  \"n_activity_nodes\": 87,\n",
    "  \"n_x\" : 99,\n",
    "  \"trainset_ratio\": 0.7,\n",
    "  \"validset_ratio\": 0.8,\n",
    "  \"batchsize\": 4,\n",
    "  \"add_noise_level\": 0,\n",
    "\n",
    "  \"envelop_form\": \"tanh\",\n",
    "  \"dT\": 0.1,\n",
    "  \"envelop\":0,\n",
    "  \"ode_degree\": 1,\n",
    "  \"ode_solver\": \"heun\",\n",
    "  \"ode_last_steps\": 2,\n",
    "  \"l1lambda\": 1e-4,\n",
    "  \"l2lambda\": 1e-4,\n",
    "\n",
    "  \"n_epoch\": 10000,\n",
    "  \"n_iter\": 10000,\n",
    "  \"n_iter_buffer\":50,\n",
    "  \"n_iter_patience\":100,\n",
    "\n",
    "  \"stages\":[{\n",
    "    \"nT\": 100,\n",
    "    \"sub_stages\":[\n",
    "        {\"lr_val\": 0.1,\"l1lambda\": 0.01, \"n_iter_patience\":1000},\n",
    "        {\"lr_val\": 0.01,\"l1lambda\": 0.01},\n",
    "    ]}],\n",
    "\n",
    "    \"export_verbose\": 3,\n",
    "    \"ckpt_name\": \"model11.pth\"\n",
    "}\n"
   ]
  },
  {
   "cell_type": "markdown",
   "metadata": {},
   "source": [
    "### Initialize weights"
   ]
  },
  {
   "cell_type": "code",
   "execution_count": 3,
   "metadata": {},
   "outputs": [],
   "source": [
    "def weight_init(seed, n_x=99, n_protein_nodes=82, n_activity_nodes=87):\n",
    "    np.random.seed(seed)\n",
    "    W = np.random.normal(0.01, 1.0, size=(n_x, n_x))\n",
    "    W_mask = (1.0 - np.diag(np.ones([n_x])))\n",
    "    W_mask[n_activity_nodes:, :] = np.zeros([n_x - n_activity_nodes, n_x])\n",
    "    W_mask[:, n_protein_nodes:n_activity_nodes] = np.zeros([n_x, n_activity_nodes - n_protein_nodes])\n",
    "    W_mask[n_protein_nodes:n_activity_nodes, n_activity_nodes:] = np.zeros([n_activity_nodes - n_protein_nodes,\n",
    "                                                                            n_x - n_activity_nodes])\n",
    "\n",
    "    return W*W_mask"
   ]
  },
  {
   "cell_type": "code",
   "execution_count": 14,
   "metadata": {},
   "outputs": [],
   "source": [
    "for i, seed in enumerate(seeds):\n",
    "    np.random.seed(seed)\n",
    "    W = np.random.normal(0.01, 1.0, size=(99, 99))\n",
    "    #W = weight_init(seed)\n",
    "    with open(f\"/users/ngun7t/Documents/cellbox-jun-6/test_arrays/full_training/full-training_weights_00{i}.npy\", \"wb\") as f:\n",
    "        np.save(f, W)"
   ]
  },
  {
   "cell_type": "markdown",
   "metadata": {},
   "source": [
    "### Make the training config files, first make it for Tensorflow then manually change it for pytorch"
   ]
  },
  {
   "cell_type": "code",
   "execution_count": 18,
   "metadata": {},
   "outputs": [
    {
     "name": "stdout",
     "output_type": "stream",
     "text": [
      "<class 'dict'>\n",
      "<class 'dict'>\n",
      "<class 'dict'>\n",
      "<class 'dict'>\n",
      "<class 'dict'>\n"
     ]
    }
   ],
   "source": [
    "import copy\n",
    "\n",
    "for i, seed in enumerate(seeds):\n",
    "    drug_index = drug_indices[i]\n",
    "    data_partition = data_partitions[i]\n",
    "    ode = odes[i]\n",
    "\n",
    "    #envelope_fn, ode_solver, polynomial_k \n",
    "    param = {\n",
    "        \"working_index\": drug_index,\n",
    "        \"seed\": seed,\n",
    "        \"experiment_type\": data_partition,\n",
    "        \"envelop_form\": ode[0],\n",
    "        \"ode_solver\": ode[1],\n",
    "        \"polynomial_k\": ode[2]\n",
    "    }\n",
    "    new_case = copy.deepcopy(base)\n",
    "    new_case.update(param)\n",
    "    print(type(new_case))\n",
    "    with open(f\"/users/ngun7t/Documents/cellbox-jun-6/test_arrays/full_training/full-training_torch-config_00{i}.json\", \"w\") as f:\n",
    "        json.dump(new_case, f)"
   ]
  },
  {
   "cell_type": "code",
   "execution_count": 22,
   "metadata": {},
   "outputs": [],
   "source": [
    "import pandas as pd\n",
    "import matplotlib.pyplot as plt\n",
    "import numpy as np\n",
    "import seaborn as sns"
   ]
  },
  {
   "cell_type": "code",
   "execution_count": 26,
   "metadata": {},
   "outputs": [],
   "source": [
    "tf_df = \"/data/weirauchlab/team/ngun7t/cellbox_results/results/Test_cases_37ad7a53ebd1d88392fb1cbfcc5f6722/seed_748/2_best.y_hat.loss.0.15325296476483344.csv\"\n",
    "torch_df = \"/data/weirauchlab/team/ngun7t/cellbox_results/results/Test_cases_torch_044d0718503cf2355b5f625b0544ecc3/seed_748/2_best.y_hat.loss.0.18864094644784926.csv\"\n",
    "\n",
    "tf_np = pd.read_csv(tf_df).to_numpy()\n",
    "torch_np = pd.read_csv(torch_df).to_numpy()"
   ]
  },
  {
   "cell_type": "code",
   "execution_count": 27,
   "metadata": {},
   "outputs": [
    {
     "data": {
      "image/png": "[encoded data removed]",
      "text/plain": [
       "<Figure size 1500x1500 with 2 Axes>"
      ]
     },
     "metadata": {},
     "output_type": "display_data"
    }
   ],
   "source": [
    "plt.figure(figsize=(15, 15))\n",
    "sns.heatmap(np.abs(tf_np - torch_np))\n",
    "plt.show()"
   ]
  }
 ],
 "metadata": {
  "kernelspec": {
   "display_name": "cellbox-3.6-2",
   "language": "python",
   "name": "python3"
  },
  "language_info": {
   "codemirror_mode": {
    "name": "ipython",
    "version": 3
   },
   "file_extension": ".py",
   "mimetype": "text/x-python",
   "name": "python",
   "nbconvert_exporter": "python",
   "pygments_lexer": "ipython3",
   "version": "3.8.0"
  },
  "orig_nbformat": 4
 },
 "nbformat": 4,
 "nbformat_minor": 2
}
