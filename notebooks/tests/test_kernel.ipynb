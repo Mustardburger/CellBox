{
 "cells": [
  {
   "cell_type": "code",
   "execution_count": 1,
   "metadata": {},
   "outputs": [
    {
     "name": "stderr",
     "output_type": "stream",
     "text": [
      "2023-07-29 22:27:45.589087: I tensorflow/core/platform/cpu_feature_guard.cc:193] This TensorFlow binary is optimized with oneAPI Deep Neural Network Library (oneDNN) to use the following CPU instructions in performance-critical operations:  AVX2 AVX512F AVX512_VNNI FMA\n",
      "To enable them in other operations, rebuild TensorFlow with the appropriate compiler flags.\n",
      "2023-07-29 22:27:45.758252: I tensorflow/core/util/port.cc:104] oneDNN custom operations are on. You may see slightly different numerical results due to floating-point round-off errors from different computation orders. To turn them off, set the environment variable `TF_ENABLE_ONEDNN_OPTS=0`.\n",
      "2023-07-29 22:27:45.762755: W tensorflow/compiler/xla/stream_executor/platform/default/dso_loader.cc:64] Could not load dynamic library 'libcudart.so.11.0'; dlerror: libcudart.so.11.0: cannot open shared object file: No such file or directory; LD_LIBRARY_PATH: /cm/shared/apps/lsf10/10.1/linux3.10-glibc2.17-x86_64/lib:/data/weirauchlab/opt/lib:/data/weirauchlab/opt/lib64:/data/weirauchlab/local/lib:/users/ngun7t/anaconda3/envs/cellbox-3.6-2/lib/:/users/ngun7t/anaconda3/envs/cellbox-3.6-2/lib/:/users/ngun7t/anaconda3/envs/cellbox-3.6-2/lib/\n",
      "2023-07-29 22:27:45.762770: I tensorflow/compiler/xla/stream_executor/cuda/cudart_stub.cc:29] Ignore above cudart dlerror if you do not have a GPU set up on your machine.\n",
      "2023-07-29 22:27:50.136460: W tensorflow/compiler/xla/stream_executor/platform/default/dso_loader.cc:64] Could not load dynamic library 'libnvinfer.so.7'; dlerror: libnvinfer.so.7: cannot open shared object file: No such file or directory; LD_LIBRARY_PATH: /cm/shared/apps/lsf10/10.1/linux3.10-glibc2.17-x86_64/lib:/data/weirauchlab/opt/lib:/data/weirauchlab/opt/lib64:/data/weirauchlab/local/lib:/users/ngun7t/anaconda3/envs/cellbox-3.6-2/lib/:/users/ngun7t/anaconda3/envs/cellbox-3.6-2/lib/:/users/ngun7t/anaconda3/envs/cellbox-3.6-2/lib/\n",
      "2023-07-29 22:27:50.136726: W tensorflow/compiler/xla/stream_executor/platform/default/dso_loader.cc:64] Could not load dynamic library 'libnvinfer_plugin.so.7'; dlerror: libnvinfer_plugin.so.7: cannot open shared object file: No such file or directory; LD_LIBRARY_PATH: /cm/shared/apps/lsf10/10.1/linux3.10-glibc2.17-x86_64/lib:/data/weirauchlab/opt/lib:/data/weirauchlab/opt/lib64:/data/weirauchlab/local/lib:/users/ngun7t/anaconda3/envs/cellbox-3.6-2/lib/:/users/ngun7t/anaconda3/envs/cellbox-3.6-2/lib/:/users/ngun7t/anaconda3/envs/cellbox-3.6-2/lib/\n",
      "2023-07-29 22:27:50.136754: W tensorflow/compiler/tf2tensorrt/utils/py_utils.cc:38] TF-TRT Warning: Cannot dlopen some TensorRT libraries. If you would like to use Nvidia GPU with TensorRT, please make sure the missing libraries mentioned above are installed properly.\n"
     ]
    },
    {
     "name": "stdout",
     "output_type": "stream",
     "text": [
      "WARNING:tensorflow:From /users/ngun7t/anaconda3/envs/cellbox-3.6-2/lib/python3.8/site-packages/tensorflow/python/compat/v2_compat.py:107: disable_resource_variables (from tensorflow.python.ops.variable_scope) is deprecated and will be removed in a future version.\n",
      "Instructions for updating:\n",
      "non-resource variables are not supported in the long term\n",
      "================================================================================\n",
      "   _____     _ _ ____              \n",
      "  / ____|   | | |  _ \\             \n",
      " | |     ___| | | |_) | _____  __  \n",
      " | |    / _ \\ | |  _ < / _ \\ \\/ /  \n",
      " | |___|  __/ | | |_) | (_) >  <   \n",
      "  \\_____\\___|_|_|____/ \\___/_/\\_\\  \n",
      "Running CellBox scripts developed in Sander lab\n",
      "Maintained by Bo Yuan, Judy Shen, and Augustin Luna; contributions by Daniel Ritter\n",
      "\n",
      "        version 0.3.2\n",
      "        -- Feb 10, 2023 --\n",
      "        * Modify CellBox to support TF2     \n",
      "        \n",
      "Tutorials and documentations are available at https://github.com/sanderlab/CellBox\n",
      "If you want to discuss the usage or to report a bug, please use the 'Issues' function at GitHub.\n",
      "If you find CellBox useful for your research, please consider citing the corresponding publication.\n",
      "For more information, please email us at boyuan@g.harvard.edu and c_shen@g.harvard.edu, augustin_luna@hms.harvard.edu\n",
      " --------------------------------------------------------------------------------\n"
     ]
    }
   ],
   "source": [
    "import cellbox\n",
    "import os\n",
    "import numpy as np\n",
    "import pandas as pd\n",
    "import tensorflow.compat.v1 as tf\n",
    "import shutil\n",
    "import argparse\n",
    "import json\n",
    "import glob\n",
    "import time\n",
    "import torch\n",
    "import torch.nn as nn\n",
    "import matplotlib.pyplot as plt\n",
    "import seaborn as sns\n",
    "\n",
    "tf.disable_v2_behavior()"
   ]
  },
  {
   "cell_type": "code",
   "execution_count": 2,
   "metadata": {},
   "outputs": [
    {
     "name": "stdout",
     "output_type": "stream",
     "text": [
      "(89, 99)\n"
     ]
    }
   ],
   "source": [
    "# Manually determine the params and all other necessary params\n",
    "class KernelConfig(object):\n",
    "    def __init__(self):\n",
    "        \n",
    "        self.n_x = 99\n",
    "        self.envelope_form = \"clip linear\" # options: tanh, polynormial, hill, linear, clip linear\n",
    "        self.envelope_fn = None\n",
    "        self.polynomial_k = 2 # larger than 1\n",
    "        self.ode_degree = 1\n",
    "        self.envelope = 0\n",
    "        self.ode_solver = \"euler\" # options: euler, heun, rk4, midpoint\n",
    "        self.dT = 0.1\n",
    "        self.ode_last_steps = 2\n",
    "        self.n_T = 100\n",
    "        self.gradient_zero_from = None\n",
    "\n",
    "args = KernelConfig()\n",
    "dT = 0.1\n",
    "n_T = 100\n",
    "gradient_zero_from = None\n",
    "\n",
    "#if self.args.envelope == 2:\n",
    "#    psi = tf.Variable(np.ones((n_x, 1)), name=\"psi\", dtype=tf.float32)\n",
    "#    self.params['psi'] = tf.nn.softplus(psi)\n",
    "\n",
    "pert_data = pd.read_csv(\"/users/ngun7t/Documents/cellbox-jun-6/data/pert.csv\", header=None)\n",
    "print(pert_data.shape)"
   ]
  },
  {
   "cell_type": "code",
   "execution_count": 3,
   "metadata": {},
   "outputs": [],
   "source": [
    "W = np.random.normal(loc=0.01, size=(args.n_x, args.n_x))\n",
    "eps = np.ones((args.n_x, 1), dtype=np.float32)\n",
    "alpha = np.ones((args.n_x, 1), dtype=np.float32)\n",
    "y0_np = np.zeros((args.n_x, 4))\n",
    "#mu_t_np = pert_data[:4].T\n",
    "mu_t_np = np.random.normal(loc=0.01, size=(4, args.n_x)).T\n",
    "ytrue_np = np.random.normal(size=(args.n_x, 4)).T"
   ]
  },
  {
   "attachments": {},
   "cell_type": "markdown",
   "metadata": {},
   "source": [
    "### Tensorflow code"
   ]
  },
  {
   "cell_type": "code",
   "execution_count": 5,
   "metadata": {},
   "outputs": [],
   "source": [
    "# import the relevant objects\n",
    "def tensorflow_results():\n",
    "    from cellbox.kernel import get_ode_solver, get_envelope, get_dxdt\n",
    "\n",
    "    params = {}\n",
    "    W_copy = np.copy(W)\n",
    "    params[\"W\"] = tf.convert_to_tensor(W_copy, dtype=tf.float32)\n",
    "    params[\"alpha\"] = tf.convert_to_tensor(np.log(np.exp(alpha) + 1), dtype=tf.float32)\n",
    "    params[\"eps\"] = tf.convert_to_tensor(np.log(np.exp(eps) + 1), dtype=tf.float32)\n",
    "    envelope_fn = get_envelope(args)\n",
    "    ode_solver = get_ode_solver(args)\n",
    "    _dxdt = get_dxdt(args, params)\n",
    "\n",
    "    # Determine the input and output shape of the ODE\n",
    "    mu_t_copy = np.copy(mu_t_np)\n",
    "    y0 = tf.convert_to_tensor(y0_np, dtype=tf.float32)\n",
    "    mu_t = tf.convert_to_tensor(mu_t_copy, dtype=tf.float32)\n",
    "    ys = ode_solver(y0, mu_t, args.dT, args.n_T, _dxdt, gradient_zero_from)\n",
    "    return ys.eval(session=tf.compat.v1.Session())"
   ]
  },
  {
   "cell_type": "code",
   "execution_count": 6,
   "metadata": {},
   "outputs": [
    {
     "name": "stderr",
     "output_type": "stream",
     "text": [
      "2023-07-27 12:04:52.939418: W tensorflow/compiler/xla/stream_executor/platform/default/dso_loader.cc:64] Could not load dynamic library 'libcuda.so.1'; dlerror: libcuda.so.1: cannot open shared object file: No such file or directory; LD_LIBRARY_PATH: /cm/shared/apps/lsf10/10.1/linux3.10-glibc2.17-x86_64/lib:/data/weirauchlab/opt/lib:/data/weirauchlab/opt/lib64:/data/weirauchlab/local/lib:/users/ngun7t/anaconda3/envs/cellbox-3.6-2/lib/:/users/ngun7t/anaconda3/envs/cellbox-3.6-2/lib/:/users/ngun7t/anaconda3/envs/cellbox-3.6-2/lib/\n",
      "2023-07-27 12:04:52.939490: W tensorflow/compiler/xla/stream_executor/cuda/cuda_driver.cc:265] failed call to cuInit: UNKNOWN ERROR (303)\n",
      "2023-07-27 12:04:52.939554: I tensorflow/compiler/xla/stream_executor/cuda/cuda_diagnostics.cc:156] kernel driver does not appear to be running on this host (bmiclusterp2.chmcres.cchmc.org): /proc/driver/nvidia/version does not exist\n",
      "2023-07-27 12:04:52.940097: I tensorflow/core/platform/cpu_feature_guard.cc:193] This TensorFlow binary is optimized with oneAPI Deep Neural Network Library (oneDNN) to use the following CPU instructions in performance-critical operations:  AVX2 AVX512F AVX512_VNNI FMA\n",
      "To enable them in other operations, rebuild TensorFlow with the appropriate compiler flags.\n",
      "2023-07-27 12:04:53.035487: I tensorflow/compiler/mlir/mlir_graph_optimization_pass.cc:357] MLIR V1 optimization pass is not enabled\n"
     ]
    }
   ],
   "source": [
    "ys_tf = tensorflow_results()"
   ]
  },
  {
   "attachments": {},
   "cell_type": "markdown",
   "metadata": {},
   "source": [
    "### Check Pytorch code"
   ]
  },
  {
   "cell_type": "code",
   "execution_count": 24,
   "metadata": {},
   "outputs": [],
   "source": [
    "# import the relevant objects\n",
    "def pytorch_results():\n",
    "    from cellbox.kernel_torch import get_ode_solver, get_envelope, get_dxdt\n",
    "\n",
    "    params = {}\n",
    "    W_copy = np.copy(W)\n",
    "    params[\"W\"] = torch.tensor(W_copy, dtype=torch.float32)\n",
    "    params[\"alpha\"] = torch.tensor(np.log(np.exp(alpha) + 1), dtype=torch.float32)\n",
    "    params[\"eps\"] = torch.tensor(np.log(np.exp(eps) + 1), dtype=torch.float32)\n",
    "    envelope_fn = get_envelope(args)\n",
    "    ode_solver = get_ode_solver(args)\n",
    "    _dxdt = get_dxdt(args, params)\n",
    "\n",
    "    # Determine the input and output shape of the ODE\n",
    "    mu_t_copy = np.copy(mu_t_np)\n",
    "    y0 = torch.tensor(y0_np, dtype=torch.float32)\n",
    "    mu_t = torch.tensor(mu_t_copy, dtype=torch.float32)\n",
    "    ys_torch = ode_solver(y0, mu_t, args.dT, args.n_T, _dxdt, gradient_zero_from)\n",
    "\n",
    "    return ys_torch.numpy()"
   ]
  },
  {
   "cell_type": "code",
   "execution_count": 25,
   "metadata": {},
   "outputs": [],
   "source": [
    "ys_torch = pytorch_results()"
   ]
  },
  {
   "cell_type": "markdown",
   "metadata": {},
   "source": [
    "### Analyse results"
   ]
  },
  {
   "cell_type": "markdown",
   "metadata": {},
   "source": [
    "The plot that shows the maximum and average difference between two functions"
   ]
  },
  {
   "cell_type": "code",
   "execution_count": 26,
   "metadata": {},
   "outputs": [],
   "source": [
    "#n_T_list = list(range(5, 405, 5))\n",
    "#diff_max_list = []\n",
    "#diff_mean_list = []\n",
    "#for n_T in n_T_list:\n",
    "#    args.n_T = n_T\n",
    "#    print(f\"Working on time step: {n_T}\")\n",
    "#    tf_out = tensorflow_results()\n",
    "#    torch_out = pytorch_results()\n",
    "#    diff_max_list.append(np.amax(np.abs(tf_out - torch_out)))\n",
    "#    diff_mean_list.append(np.mean(np.abs(tf_out - torch_out)))\n",
    "\n",
    "assert ys_tf.shape == ys_torch.shape, \"The shape of two tensors is not equal\"\n",
    "diff_max_list = []\n",
    "diff_mean_list = []\n",
    "for t in range(ys_torch.shape[0]):\n",
    "    tf_slice = ys_tf[t, ...]\n",
    "    torch_slice = ys_torch[t, ...]\n",
    "    diff_max_list.append(np.amax(np.abs(torch_slice - tf_slice)))\n",
    "    diff_mean_list.append(np.mean(np.abs(torch_slice - tf_slice)))"
   ]
  },
  {
   "cell_type": "code",
   "execution_count": 27,
   "metadata": {},
   "outputs": [
    {
     "data": {
      "image/png": "[encoded data removed]",
      "text/plain": [
       "<Figure size 1200x700 with 1 Axes>"
      ]
     },
     "metadata": {},
     "output_type": "display_data"
    }
   ],
   "source": [
    "plt.figure(figsize=(12, 7))\n",
    "plt.plot(diff_max_list)\n",
    "#plt.xticks(np.arange(len(n_T_list)), n_T_list, rotation=90)\n",
    "plt.title(\"Max difference between tensorflow and pytorch ODE output\")\n",
    "plt.xlabel(\"Total time steps\")\n",
    "plt.ylabel(\"Value\")\n",
    "plt.grid()\n",
    "plt.show()"
   ]
  },
  {
   "cell_type": "code",
   "execution_count": 10,
   "metadata": {},
   "outputs": [
    {
     "data": {
      "image/png": "[encoded data removed]",
      "text/plain": [
       "<Figure size 1200x700 with 1 Axes>"
      ]
     },
     "metadata": {},
     "output_type": "display_data"
    }
   ],
   "source": [
    "plt.figure(figsize=(12, 7))\n",
    "plt.plot(diff_mean_list)\n",
    "#plt.xticks(np.arange(len(n_T_list)), n_T_list, rotation=90)\n",
    "plt.title(\"Mean difference between tensorflow and pytorch ODE output\")\n",
    "plt.xlabel(\"Total time steps\")\n",
    "plt.ylabel(\"Value\")\n",
    "plt.grid()\n",
    "plt.show()"
   ]
  },
  {
   "cell_type": "markdown",
   "metadata": {},
   "source": [
    "Show the actual output of two functions"
   ]
  },
  {
   "cell_type": "code",
   "execution_count": 22,
   "metadata": {},
   "outputs": [
    {
     "data": {
      "image/png": "[encoded data removed]",
      "text/plain": [
       "<Figure size 2000x1500 with 6 Axes>"
      ]
     },
     "metadata": {},
     "output_type": "display_data"
    }
   ],
   "source": [
    "time_step = 500\n",
    "tf_slice = ys_tf[time_step, ...]\n",
    "torch_slice = ys_torch[time_step, ...]\n",
    "diff_slice = np.abs(tf_slice - torch_slice)\n",
    "max_val = np.amax(np.concatenate([tf_slice, torch_slice, diff_slice]))\n",
    "\n",
    "fig, axes = plt.subplots(nrows=1, ncols=3, figsize=(20, 15), sharey=True)\n",
    "sns.heatmap(tf_slice, ax=axes[0], vmax=max_val)\n",
    "axes[0].set_title(f\"Tensorflow output at time step {time_step}\")\n",
    "axes[0].set_axis_off()\n",
    "sns.heatmap(torch_slice, ax=axes[1], vmax=max_val)\n",
    "axes[1].set_title(f\"Pytorch output at time step {time_step}\")\n",
    "axes[1].set_axis_off()\n",
    "sns.heatmap(diff_slice, ax=axes[2], vmax=max_val)\n",
    "axes[2].set_title(f\"Difference at time step {time_step}\")\n",
    "axes[2].set_axis_off()\n",
    "plt.tight_layout()\n",
    "plt.show()"
   ]
  },
  {
   "cell_type": "markdown",
   "metadata": {},
   "source": [
    "### Test envelope function of the code"
   ]
  },
  {
   "cell_type": "code",
   "execution_count": 31,
   "metadata": {},
   "outputs": [],
   "source": [
    "W_like = np.random.randn(99, 99)"
   ]
  },
  {
   "cell_type": "code",
   "execution_count": 8,
   "metadata": {},
   "outputs": [],
   "source": [
    "# Test the envelope\n",
    "def tensorflow_envelope():\n",
    "    from cellbox.kernel import get_envelope\n",
    "    envelope_fn = get_envelope(args)\n",
    "\n",
    "    params = {}\n",
    "    W_copy = np.copy(W)\n",
    "    params[\"W\"] = tf.convert_to_tensor(W_copy, dtype=tf.float32)\n",
    "    if args.ode_degree == 1:\n",
    "        def weighted_sum(x):\n",
    "            return tf.matmul(params['W'], x)\n",
    "    \n",
    "    return envelope_fn(weighted_sum(tf.convert_to_tensor(params[\"W\"], dtype=tf.float32))).eval(session=tf.compat.v1.Session())\n",
    "    \n",
    "def pytorch_envelope():\n",
    "    from cellbox.kernel_torch import get_envelope\n",
    "    envelope_fn = get_envelope(args)\n",
    "    params = {}\n",
    "    W_copy = np.copy(W)\n",
    "    params[\"W\"] = torch.tensor(W_copy, dtype=torch.float32)\n",
    "    if args.ode_degree == 1:\n",
    "        def weighted_sum(x):\n",
    "            return torch.matmul(params['W'], x)\n",
    "\n",
    "    return envelope_fn(weighted_sum(torch.tensor(params[\"W\"], dtype=torch.float32))).numpy()\n"
   ]
  },
  {
   "cell_type": "code",
   "execution_count": 9,
   "metadata": {},
   "outputs": [
    {
     "name": "stderr",
     "output_type": "stream",
     "text": [
      "2023-07-22 13:22:48.894174: W tensorflow/compiler/xla/stream_executor/platform/default/dso_loader.cc:64] Could not load dynamic library 'libcuda.so.1'; dlerror: libcuda.so.1: cannot open shared object file: No such file or directory; LD_LIBRARY_PATH: /cm/shared/apps/lsf10/10.1/linux3.10-glibc2.17-x86_64/lib:/data/weirauchlab/opt/lib:/data/weirauchlab/opt/lib64:/data/weirauchlab/local/lib:/users/ngun7t/anaconda3/envs/cellbox-3.6-2/lib/:/users/ngun7t/anaconda3/envs/cellbox-3.6-2/lib/:/users/ngun7t/anaconda3/envs/cellbox-3.6-2/lib/\n",
      "2023-07-22 13:22:48.894248: W tensorflow/compiler/xla/stream_executor/cuda/cuda_driver.cc:265] failed call to cuInit: UNKNOWN ERROR (303)\n",
      "2023-07-22 13:22:48.894309: I tensorflow/compiler/xla/stream_executor/cuda/cuda_diagnostics.cc:156] kernel driver does not appear to be running on this host (bmiclusterp2.chmcres.cchmc.org): /proc/driver/nvidia/version does not exist\n",
      "2023-07-22 13:22:48.895432: I tensorflow/core/platform/cpu_feature_guard.cc:193] This TensorFlow binary is optimized with oneAPI Deep Neural Network Library (oneDNN) to use the following CPU instructions in performance-critical operations:  AVX2 AVX512F AVX512_VNNI FMA\n",
      "To enable them in other operations, rebuild TensorFlow with the appropriate compiler flags.\n",
      "2023-07-22 13:22:48.899572: I tensorflow/compiler/mlir/mlir_graph_optimization_pass.cc:357] MLIR V1 optimization pass is not enabled\n",
      "/tmp/ipykernel_12863/4065529084.py:25: UserWarning: To copy construct from a tensor, it is recommended to use sourceTensor.clone().detach() or sourceTensor.clone().detach().requires_grad_(True), rather than torch.tensor(sourceTensor).\n",
      "  return envelope_fn(weighted_sum(torch.tensor(params[\"W\"], dtype=torch.float32))).numpy()\n"
     ]
    }
   ],
   "source": [
    "tf_out = tensorflow_envelope()\n",
    "torch_out = pytorch_envelope()"
   ]
  },
  {
   "cell_type": "markdown",
   "metadata": {},
   "source": [
    "A small difference indicates that the envelope function produces similar results"
   ]
  },
  {
   "cell_type": "code",
   "execution_count": 11,
   "metadata": {},
   "outputs": [
    {
     "name": "stdout",
     "output_type": "stream",
     "text": [
      "[[0.0000000e+00 1.4901161e-08 0.0000000e+00 0.0000000e+00 0.0000000e+00]\n",
      " [5.9604645e-08 0.0000000e+00 5.9604645e-08 2.9802322e-08 5.9604645e-08]\n",
      " [1.1920929e-07 0.0000000e+00 9.3132257e-10 0.0000000e+00 2.9802322e-08]\n",
      " [2.9802322e-08 1.4901161e-08 5.9604645e-08 1.8626451e-09 5.9604645e-08]\n",
      " [5.9604645e-08 5.9604645e-08 5.9604645e-08 0.0000000e+00 0.0000000e+00]]\n"
     ]
    }
   ],
   "source": [
    "print(np.abs(tf_out - torch_out))"
   ]
  },
  {
   "cell_type": "markdown",
   "metadata": {},
   "source": [
    "Using clip linear"
   ]
  },
  {
   "cell_type": "code",
   "execution_count": 12,
   "metadata": {},
   "outputs": [
    {
     "name": "stdout",
     "output_type": "stream",
     "text": [
      "[[0. 0. 0. 0. 0.]\n",
      " [0. 0. 0. 0. 0.]\n",
      " [0. 0. 0. 0. 0.]\n",
      " [0. 0. 0. 0. 0.]\n",
      " [0. 0. 0. 0. 0.]]\n"
     ]
    },
    {
     "name": "stderr",
     "output_type": "stream",
     "text": [
      "/tmp/ipykernel_12863/4065529084.py:25: UserWarning: To copy construct from a tensor, it is recommended to use sourceTensor.clone().detach() or sourceTensor.clone().detach().requires_grad_(True), rather than torch.tensor(sourceTensor).\n",
      "  return envelope_fn(weighted_sum(torch.tensor(params[\"W\"], dtype=torch.float32))).numpy()\n"
     ]
    }
   ],
   "source": [
    "args.envelope_form = \"clip linear\"\n",
    "tf_out = tensorflow_envelope()\n",
    "torch_out = pytorch_envelope()\n",
    "print(np.abs(tf_out - torch_out))"
   ]
  },
  {
   "cell_type": "markdown",
   "metadata": {},
   "source": [
    "Using polynomial"
   ]
  },
  {
   "cell_type": "code",
   "execution_count": 14,
   "metadata": {},
   "outputs": [
    {
     "name": "stdout",
     "output_type": "stream",
     "text": [
      "[[0.0000000e+00 0.0000000e+00 0.0000000e+00 0.0000000e+00 0.0000000e+00]\n",
      " [0.0000000e+00 0.0000000e+00 5.9604645e-08 0.0000000e+00 0.0000000e+00]\n",
      " [0.0000000e+00 0.0000000e+00 1.4551915e-11 0.0000000e+00 0.0000000e+00]\n",
      " [0.0000000e+00 0.0000000e+00 0.0000000e+00 0.0000000e+00 0.0000000e+00]\n",
      " [0.0000000e+00 0.0000000e+00 0.0000000e+00 0.0000000e+00 0.0000000e+00]]\n"
     ]
    },
    {
     "name": "stderr",
     "output_type": "stream",
     "text": [
      "/tmp/ipykernel_12863/4065529084.py:25: UserWarning: To copy construct from a tensor, it is recommended to use sourceTensor.clone().detach() or sourceTensor.clone().detach().requires_grad_(True), rather than torch.tensor(sourceTensor).\n",
      "  return envelope_fn(weighted_sum(torch.tensor(params[\"W\"], dtype=torch.float32))).numpy()\n"
     ]
    }
   ],
   "source": [
    "args.envelope_form = \"polynomial\"\n",
    "args.polynomial_k = 2\n",
    "tf_out = tensorflow_envelope()\n",
    "torch_out = pytorch_envelope()\n",
    "print(np.abs(tf_out - torch_out))"
   ]
  },
  {
   "cell_type": "markdown",
   "metadata": {},
   "source": [
    "### Test dXdT of the code"
   ]
  },
  {
   "cell_type": "code",
   "execution_count": 41,
   "metadata": {},
   "outputs": [],
   "source": [
    "def tensorflow_dxdt():\n",
    "    from cellbox.kernel import get_ode_solver, get_envelope, get_dxdt\n",
    "\n",
    "    params = {}\n",
    "    W_copy = np.copy(W)\n",
    "    params[\"W\"] = tf.convert_to_tensor(W_copy, dtype=tf.float32)\n",
    "    params[\"alpha\"] = tf.convert_to_tensor(np.log(np.exp(alpha) + 1), dtype=tf.float32)\n",
    "    params[\"eps\"] = tf.convert_to_tensor(np.log(np.exp(eps) + 1), dtype=tf.float32)\n",
    "    envelope_fn = get_envelope(args)\n",
    "    ode_solver = get_ode_solver(args)\n",
    "    _dxdt = get_dxdt(args, params)\n",
    "\n",
    "    # Determine the input and output shape of the ODE\n",
    "    mu_t_copy = np.copy(mu_t_np)\n",
    "    y0 = tf.convert_to_tensor(y0_np, dtype=tf.float32)\n",
    "    mu_t = tf.convert_to_tensor(mu_t_copy, dtype=tf.float32)\n",
    "    return _dxdt(y0, mu_t).eval(session=tf.compat.v1.Session())\n",
    "\n",
    "def pytorch_dxdt():\n",
    "    from cellbox.kernel_torch import get_ode_solver, get_envelope, get_dxdt\n",
    "\n",
    "    params = {}\n",
    "    W_copy = np.copy(W)\n",
    "    params[\"W\"] = torch.tensor(W_copy, dtype=torch.float32)\n",
    "    params[\"alpha\"] = torch.tensor(np.log(np.exp(alpha) + 1), dtype=torch.float32)\n",
    "    params[\"eps\"] = torch.tensor(np.log(np.exp(eps) + 1), dtype=torch.float32)\n",
    "    envelope_fn = get_envelope(args)\n",
    "    ode_solver = get_ode_solver(args)\n",
    "    _dxdt = get_dxdt(args, params)\n",
    "\n",
    "    # Determine the input and output shape of the ODE\n",
    "    mu_t_copy = np.copy(mu_t_np)\n",
    "    y0 = torch.tensor(y0_np, dtype=torch.float32)\n",
    "    mu_t = torch.tensor(mu_t_copy, dtype=torch.float32)\n",
    "    return _dxdt(y0, mu_t).numpy()"
   ]
  },
  {
   "cell_type": "code",
   "execution_count": 42,
   "metadata": {},
   "outputs": [],
   "source": [
    "tf_out = tensorflow_dxdt()\n",
    "torch_out = pytorch_dxdt()"
   ]
  },
  {
   "cell_type": "code",
   "execution_count": 43,
   "metadata": {},
   "outputs": [
    {
     "data": {
      "text/plain": [
       "2.3841858e-07"
      ]
     },
     "execution_count": 43,
     "metadata": {},
     "output_type": "execute_result"
    }
   ],
   "source": [
    "np.amax(np.abs(tf_out - torch_out))"
   ]
  },
  {
   "cell_type": "markdown",
   "metadata": {},
   "source": [
    "### Test numerical discrepancy between Tensorflow and Pytorch"
   ]
  },
  {
   "cell_type": "markdown",
   "metadata": {},
   "source": [
    "Tanh function"
   ]
  },
  {
   "cell_type": "code",
   "execution_count": 27,
   "metadata": {},
   "outputs": [
    {
     "name": "stdout",
     "output_type": "stream",
     "text": [
      "[0.0000000e+00 5.9604645e-08 5.9604645e-08 5.9604645e-08 5.9604645e-08\n",
      " 5.9604645e-08 0.0000000e+00 0.0000000e+00 0.0000000e+00 0.0000000e+00\n",
      " 2.9802322e-08 1.4901161e-08 0.0000000e+00 1.4901161e-08 2.9802322e-08\n",
      " 0.0000000e+00 0.0000000e+00 0.0000000e+00 0.0000000e+00 5.9604645e-08\n",
      " 5.9604645e-08 5.9604645e-08 5.9604645e-08 5.9604645e-08 0.0000000e+00]\n"
     ]
    }
   ],
   "source": [
    "a = np.linspace(-2, 2, 25)\n",
    "tf_out = tf.tanh(tf.convert_to_tensor(a, dtype=tf.float32)).eval(session=tf.compat.v1.Session())\n",
    "torch_out = torch.tanh(torch.tensor(a, dtype=torch.float32)).numpy()\n",
    "\n",
    "print(np.abs(tf_out - torch_out))"
   ]
  },
  {
   "cell_type": "markdown",
   "metadata": {},
   "source": [
    "### Test gradient flow through ODE solver for tensorflow"
   ]
  },
  {
   "cell_type": "code",
   "execution_count": 4,
   "metadata": {},
   "outputs": [],
   "source": [
    "# import the relevant objects\n",
    "def tensorflow_results_last_steps():\n",
    "    from cellbox.kernel import get_ode_solver, get_envelope, get_dxdt\n",
    "\n",
    "    params = {}\n",
    "    W_copy = np.copy(W)\n",
    "    with tf.compat.v1.variable_scope(\"initialization\", reuse=True):\n",
    "        params[\"W\"] = tf.Variable(W_copy, name=\"W\", dtype=tf.float32)\n",
    "        params[\"alpha\"] = tf.Variable(np.log(np.exp(alpha) + 1), name=\"alpha\", dtype=tf.float32)\n",
    "        params[\"eps\"] = tf.Variable(np.log(np.exp(eps) + 1), name=\"eps\", dtype=tf.float32)\n",
    "    envelope_fn = get_envelope(args)\n",
    "    ode_solver = get_ode_solver(args)\n",
    "    _dxdt = get_dxdt(args, params)\n",
    "\n",
    "    # Determine the input and output shape of the ODE\n",
    "    mu_t_copy = np.copy(mu_t_np)\n",
    "    y0 = tf.convert_to_tensor(y0_np, dtype=tf.float32)\n",
    "    mu_t = tf.convert_to_tensor(mu_t_copy, dtype=tf.float32)\n",
    "    ys = ode_solver(y0, mu_t, args.dT, args.n_T, _dxdt, gradient_zero_from)\n",
    "    ys = ys[-args.ode_last_steps:]\n",
    "    yhat = tf.transpose(ys[-1])\n",
    "\n",
    "    return yhat, params"
   ]
  },
  {
   "cell_type": "code",
   "execution_count": 5,
   "metadata": {},
   "outputs": [
    {
     "name": "stderr",
     "output_type": "stream",
     "text": [
      "2023-07-29 22:28:54.969014: W tensorflow/compiler/xla/stream_executor/platform/default/dso_loader.cc:64] Could not load dynamic library 'libcuda.so.1'; dlerror: libcuda.so.1: cannot open shared object file: No such file or directory; LD_LIBRARY_PATH: /cm/shared/apps/lsf10/10.1/linux3.10-glibc2.17-x86_64/lib:/data/weirauchlab/opt/lib:/data/weirauchlab/opt/lib64:/data/weirauchlab/local/lib:/users/ngun7t/anaconda3/envs/cellbox-3.6-2/lib/:/users/ngun7t/anaconda3/envs/cellbox-3.6-2/lib/:/users/ngun7t/anaconda3/envs/cellbox-3.6-2/lib/\n",
      "2023-07-29 22:28:54.969105: W tensorflow/compiler/xla/stream_executor/cuda/cuda_driver.cc:265] failed call to cuInit: UNKNOWN ERROR (303)\n",
      "2023-07-29 22:28:54.969170: I tensorflow/compiler/xla/stream_executor/cuda/cuda_diagnostics.cc:156] kernel driver does not appear to be running on this host (bmiclusterp2.chmcres.cchmc.org): /proc/driver/nvidia/version does not exist\n",
      "2023-07-29 22:28:54.970447: I tensorflow/core/platform/cpu_feature_guard.cc:193] This TensorFlow binary is optimized with oneAPI Deep Neural Network Library (oneDNN) to use the following CPU instructions in performance-critical operations:  AVX2 AVX512F AVX512_VNNI FMA\n",
      "To enable them in other operations, rebuild TensorFlow with the appropriate compiler flags.\n",
      "2023-07-29 22:28:55.040482: I tensorflow/compiler/mlir/mlir_graph_optimization_pass.cc:357] MLIR V1 optimization pass is not enabled\n"
     ]
    },
    {
     "name": "stdout",
     "output_type": "stream",
     "text": [
      "Variable: initialization/W:0, Gradient: [[  0.69046104   0.31123114  -0.7850424  ...   0.19063      0.24119295\n",
      "    0.19511142]\n",
      " [  0.90136296   3.554258    -2.8723724  ...   2.7796693   -3.0637\n",
      "   -0.4621172 ]\n",
      " [  0.59431875  -2.8392217    0.11265766 ...  -1.9162074    0.21832827\n",
      "    2.2832265 ]\n",
      " ...\n",
      " [ -2.4562578   -0.4884661   -3.0537615  ...   1.9585688   -1.2582976\n",
      "   -1.1611881 ]\n",
      " [  1.6098921   -0.21719028   1.2967887  ...  -2.1975315    1.0968386\n",
      "    2.0762997 ]\n",
      " [-10.598585     2.5337548   -4.4799414  ...   7.062887    -4.01558\n",
      "   -7.3086348 ]]\n",
      "Variable: initialization/alpha:0, Gradient: [[-2.0036108e+01]\n",
      " [ 8.4304628e+00]\n",
      " [ 4.3131747e+00]\n",
      " [ 4.1822430e+01]\n",
      " [ 3.0720057e+01]\n",
      " [ 9.9886761e+00]\n",
      " [-4.7925096e+00]\n",
      " [ 1.1153275e+01]\n",
      " [-1.7794771e+01]\n",
      " [ 9.5031309e+00]\n",
      " [ 1.8042181e+01]\n",
      " [-4.5810402e+01]\n",
      " [-5.4681501e+00]\n",
      " [ 4.9538124e+01]\n",
      " [-4.0876279e+00]\n",
      " [ 2.6752725e+00]\n",
      " [ 2.3386414e+01]\n",
      " [ 3.5430417e+00]\n",
      " [ 1.9863934e+01]\n",
      " [ 1.4180571e+01]\n",
      " [ 2.1204237e+01]\n",
      " [-1.4273623e+00]\n",
      " [ 2.0679184e+01]\n",
      " [-1.2122495e+01]\n",
      " [-1.0666968e+00]\n",
      " [-2.1770904e+00]\n",
      " [-5.2197833e+00]\n",
      " [-2.7447443e+00]\n",
      " [ 2.4323133e+01]\n",
      " [-1.5221064e+01]\n",
      " [ 4.9713348e+01]\n",
      " [ 4.2977924e+00]\n",
      " [-7.0634537e+01]\n",
      " [ 8.3481731e+00]\n",
      " [ 8.9404106e-01]\n",
      " [ 9.5379601e+00]\n",
      " [-1.4330476e+01]\n",
      " [ 3.6503593e+01]\n",
      " [-9.8537350e+00]\n",
      " [ 1.1798535e+01]\n",
      " [ 1.6174480e+00]\n",
      " [-5.3811617e+00]\n",
      " [-1.1855562e+01]\n",
      " [-4.0726303e+01]\n",
      " [-4.3377113e-01]\n",
      " [-2.7736580e+01]\n",
      " [ 4.3172002e-02]\n",
      " [ 2.7060349e+00]\n",
      " [-2.7546562e+01]\n",
      " [-3.9109702e+00]\n",
      " [-2.2635334e+01]\n",
      " [ 5.0119686e+00]\n",
      " [ 1.2092250e+01]\n",
      " [-4.3066216e+00]\n",
      " [ 2.3601520e-01]\n",
      " [-1.3697449e+01]\n",
      " [-3.5990364e+01]\n",
      " [-1.1656247e+01]\n",
      " [-3.6428238e+01]\n",
      " [-1.6602819e+01]\n",
      " [ 3.0641703e+01]\n",
      " [ 3.0183889e+01]\n",
      " [ 1.1984842e+00]\n",
      " [ 8.3985662e+00]\n",
      " [ 6.1830258e+00]\n",
      " [ 1.5596431e-01]\n",
      " [ 8.8816118e-01]\n",
      " [ 6.4808655e+00]\n",
      " [-4.0957767e+01]\n",
      " [-7.8825207e+00]\n",
      " [ 9.4856081e+00]\n",
      " [ 8.5493584e+00]\n",
      " [-2.5613354e+01]\n",
      " [-1.7019825e+01]\n",
      " [-1.6021318e+00]\n",
      " [ 1.0511124e+01]\n",
      " [-7.9440274e+00]\n",
      " [ 6.6845245e+01]\n",
      " [ 1.3968279e+00]\n",
      " [-4.2276344e+00]\n",
      " [ 1.2219467e+01]\n",
      " [-6.4434347e+00]\n",
      " [ 8.6846685e+00]\n",
      " [ 5.0461888e+00]\n",
      " [ 1.0064418e+01]\n",
      " [-1.6060696e+01]\n",
      " [ 6.9707742e+00]\n",
      " [ 2.3421781e+00]\n",
      " [ 9.2991667e+00]\n",
      " [-1.6421951e+01]\n",
      " [-8.2296114e+00]\n",
      " [ 1.0130907e+01]\n",
      " [-5.7195482e+00]\n",
      " [-1.8979362e+01]\n",
      " [ 1.6740100e+00]\n",
      " [ 2.8938768e+00]\n",
      " [-6.4317265e+00]\n",
      " [-3.0954721e+00]\n",
      " [ 1.2576159e+01]]\n",
      "Variable: initialization/eps:0, Gradient: [[ 6.82016296e+01]\n",
      " [-2.30369225e+01]\n",
      " [ 1.14692440e+01]\n",
      " [-1.14046867e+02]\n",
      " [-1.20189163e+02]\n",
      " [ 1.76324797e+00]\n",
      " [ 7.49438524e+00]\n",
      " [-1.78189125e+01]\n",
      " [ 3.77558746e+01]\n",
      " [-1.47957287e+01]\n",
      " [-6.14977608e+01]\n",
      " [ 1.17716965e+02]\n",
      " [-5.95755005e+00]\n",
      " [-7.56782913e+01]\n",
      " [-2.94007993e+00]\n",
      " [ 1.14391422e+00]\n",
      " [-4.45185547e+01]\n",
      " [ 4.11476822e+01]\n",
      " [-7.38826981e+01]\n",
      " [-3.33358192e+01]\n",
      " [-7.01897125e+01]\n",
      " [ 6.03321228e+01]\n",
      " [-4.31432381e+01]\n",
      " [ 7.92308884e+01]\n",
      " [ 1.23720837e+01]\n",
      " [ 2.48458328e+01]\n",
      " [ 1.39158926e+01]\n",
      " [ 1.16960287e+01]\n",
      " [ 1.79410019e+01]\n",
      " [ 5.99994545e+01]\n",
      " [-2.21245880e+02]\n",
      " [-1.95360718e+01]\n",
      " [ 2.49557526e+02]\n",
      " [-5.44508667e+01]\n",
      " [-4.59646530e+01]\n",
      " [-2.40715103e+01]\n",
      " [-1.37806997e+01]\n",
      " [-5.44511185e+01]\n",
      " [ 1.81847515e+01]\n",
      " [-2.69145241e+01]\n",
      " [-1.54657736e+01]\n",
      " [ 1.32845001e+01]\n",
      " [ 6.76735229e+01]\n",
      " [ 1.11957458e+02]\n",
      " [ 8.79041290e+00]\n",
      " [ 5.20541649e+01]\n",
      " [ 3.02171574e+01]\n",
      " [-5.48767471e+01]\n",
      " [ 6.05565300e+01]\n",
      " [ 3.08085899e+01]\n",
      " [ 8.74414139e+01]\n",
      " [-3.87381477e+01]\n",
      " [-3.36994591e+01]\n",
      " [ 4.13475037e-02]\n",
      " [-1.76895809e+01]\n",
      " [ 5.66181641e+01]\n",
      " [ 5.03365364e+01]\n",
      " [ 2.89457397e+01]\n",
      " [ 7.76962433e+01]\n",
      " [ 6.10690651e+01]\n",
      " [-1.10902031e+02]\n",
      " [-7.98296814e+01]\n",
      " [ 5.09272766e+00]\n",
      " [-2.44319820e+01]\n",
      " [-2.90190125e+01]\n",
      " [-4.83274937e+00]\n",
      " [-1.11485672e+00]\n",
      " [ 9.36583233e+00]\n",
      " [ 1.05856674e+02]\n",
      " [-2.24520645e+01]\n",
      " [-5.67451172e+01]\n",
      " [-2.55752506e+01]\n",
      " [ 3.58884850e+01]\n",
      " [ 4.84442520e+01]\n",
      " [-2.20405483e+00]\n",
      " [ 2.29188728e+00]\n",
      " [ 4.25681190e+01]\n",
      " [-1.08334236e+02]\n",
      " [ 2.20666389e+01]\n",
      " [ 7.27799845e+00]\n",
      " [-2.34074211e+01]\n",
      " [ 3.48609924e+01]\n",
      " [ 2.61790657e+01]\n",
      " [-1.58029871e+01]\n",
      " [-1.50553236e+01]\n",
      " [ 1.21855019e+02]\n",
      " [-1.86490803e+01]\n",
      " [-3.51056290e+01]\n",
      " [-6.93952332e+01]\n",
      " [ 1.65109520e+01]\n",
      " [ 1.87462978e+01]\n",
      " [-4.01842461e+01]\n",
      " [-7.71000195e+00]\n",
      " [ 6.48145599e+01]\n",
      " [-1.74404564e+01]\n",
      " [-4.92841454e+01]\n",
      " [-1.45268736e+01]\n",
      " [ 1.59806290e+01]\n",
      " [-6.25368385e+01]]\n"
     ]
    }
   ],
   "source": [
    "from cellbox.utils import loss\n",
    "\n",
    "ys_tf_last_step, params_tf = tensorflow_results_last_steps()\n",
    "loss_total, loss_mse = loss(tf.convert_to_tensor(ytrue_np, dtype=tf.float32), ys_tf_last_step, W=params_tf[\"W\"], l1=tf.convert_to_tensor(0.1, dtype=tf.float32), l2=tf.convert_to_tensor(0.01, dtype=tf.float32))\n",
    "\n",
    "all_global_variables = tf.compat.v1.get_collection(tf.compat.v1.GraphKeys.GLOBAL_VARIABLES)\n",
    "gradients = tf.gradients(loss_total, all_global_variables)[-3:]\n",
    "\n",
    "# Start a TensorFlow session\n",
    "with tf.compat.v1.Session() as sess:\n",
    "    # Initialize all global variables in the graph\n",
    "    sess.run(tf.compat.v1.global_variables_initializer())\n",
    "\n",
    "    # Get the values of the gradients\n",
    "    gradients_values = sess.run(gradients)\n",
    "\n",
    "    # Print the gradients and their corresponding variable names\n",
    "    for var, grad_value in zip(all_global_variables, gradients_values):\n",
    "        print(f\"Variable: {var.name}, Gradient: {grad_value}\")"
   ]
  },
  {
   "cell_type": "code",
   "execution_count": 7,
   "metadata": {},
   "outputs": [
    {
     "data": {
      "text/plain": [
       "array([ 0.69046104,  0.31123114, -0.7850424 ,  0.46294522,  0.4425201 ,\n",
       "       -0.17243925,  0.34404165,  0.08361699, -0.5427679 , -0.11015718,\n",
       "        0.03010625, -0.37424648, -0.56145036, -0.42048973,  0.48005337,\n",
       "       -0.02569393, -0.3123778 , -0.09902008,  0.61767304,  0.00238466,\n",
       "        0.06244864, -0.3778721 , -0.5482499 ,  0.3120805 ,  0.2579922 ,\n",
       "       -0.5806424 ,  0.12324258,  0.1298736 ,  0.19978786,  0.568104  ,\n",
       "        0.08225629, -0.3661679 , -0.32986036, -0.05421277, -0.24041432,\n",
       "       -0.5577585 ,  0.4246444 , -0.875781  , -0.14590715,  0.31604806,\n",
       "       -0.25848472, -0.24543023,  0.82239693, -0.26378253,  0.01115453,\n",
       "        0.06397022, -0.14723325, -0.07654066,  0.47561085, -0.57069266],\n",
       "      dtype=float32)"
      ]
     },
     "execution_count": 7,
     "metadata": {},
     "output_type": "execute_result"
    }
   ],
   "source": [
    "gradients_values[0][0, :50]"
   ]
  },
  {
   "cell_type": "markdown",
   "metadata": {},
   "source": [
    "tensor([ 0.6920,  0.3076, -0.7879,  0.4600,  0.4459, -0.1765,  0.3411,  0.0888,\n",
    "        -0.5380, -0.1136,  0.0344, -0.3713, -0.5647, -0.4160,  0.4748, -0.0288,\n",
    "        -0.3091, -0.0975,  0.6124,  0.0067,  0.0576, -0.3814, -0.5438,  0.3148,\n",
    "         0.2547, -0.5764,  0.1251,  0.1282,  0.2024,  0.5642,  0.0872, -0.3702,\n",
    "        -0.3329, -0.0548, -0.2371, -0.5608,  0.4198, -0.8708, -0.1430,  0.3199,\n",
    "        -0.2626, -0.2490,  0.8195, -0.2636,  0.0140,  0.0593, -0.1501, -0.0734,\n",
    "         0.4719, -0.5692])"
   ]
  },
  {
   "cell_type": "markdown",
   "metadata": {},
   "source": [
    "### Test gradient flow through ODE solver for pytorch"
   ]
  },
  {
   "cell_type": "code",
   "execution_count": 8,
   "metadata": {},
   "outputs": [],
   "source": [
    "# import the relevant objects\n",
    "def pytorch_results_last_steps():\n",
    "    from cellbox.kernel_torch import get_ode_solver, get_envelope, get_dxdt\n",
    "\n",
    "    params = {}\n",
    "    W_copy = np.copy(W)\n",
    "    params[\"W\"] = nn.Parameter(torch.tensor(W_copy, dtype=torch.float32), requires_grad=True)\n",
    "    params[\"alpha\"] = nn.Parameter(torch.tensor(np.log(np.exp(alpha) + 1), dtype=torch.float32), requires_grad=True)\n",
    "    params[\"eps\"] = nn.Parameter(torch.tensor(np.log(np.exp(eps) + 1), dtype=torch.float32), requires_grad=True)\n",
    "    envelope_fn = get_envelope(args)\n",
    "    ode_solver = get_ode_solver(args)\n",
    "    _dxdt = get_dxdt(args, params)\n",
    "\n",
    "    # Determine the input and output shape of the ODE\n",
    "    mu_t_copy = np.copy(mu_t_np)\n",
    "    y0 = torch.tensor(y0_np, dtype=torch.float32)\n",
    "    mu_t = torch.tensor(mu_t_copy, dtype=torch.float32)\n",
    "    ys_torch = ode_solver(y0, mu_t, args.dT, args.n_T, _dxdt, gradient_zero_from)\n",
    "    ys_torch = ys_torch[-args.ode_last_steps:]\n",
    "    yhat = torch.transpose(ys_torch[-1], 0, 1)\n",
    "\n",
    "    return yhat, params"
   ]
  },
  {
   "cell_type": "code",
   "execution_count": 9,
   "metadata": {},
   "outputs": [],
   "source": [
    "ys_torch_last_step, params = pytorch_results_last_steps()"
   ]
  },
  {
   "cell_type": "code",
   "execution_count": 10,
   "metadata": {},
   "outputs": [],
   "source": [
    "from cellbox.utils_torch import loss\n",
    "\n",
    "loss_val, _ = loss(torch.tensor(ytrue_np, dtype=torch.float32), ys_torch_last_step, W=params[\"W\"], l1=0.1, l2=0.01)\n",
    "gradient = torch.autograd.grad(loss_val, params[\"W\"])"
   ]
  },
  {
   "cell_type": "code",
   "execution_count": 54,
   "metadata": {},
   "outputs": [
    {
     "data": {
      "text/plain": [
       "tensor([[-0.1420, -0.0137, -0.0020,  ...,  0.0839,  0.1973, -0.1159],\n",
       "        [ 0.0522, -0.1596, -0.2373,  ...,  0.1347,  0.1080,  0.3734],\n",
       "        [-0.5585, -0.0289,  0.9152,  ..., -0.3465,  0.1889, -1.1914],\n",
       "        ...,\n",
       "        [-0.2433,  0.2777, -0.3912,  ...,  0.2999, -0.9269,  0.1279],\n",
       "        [ 0.2351, -0.5944,  0.3630,  ..., -0.2594,  0.1063,  0.1603],\n",
       "        [ 0.9058, -0.9875,  0.3528,  ..., -0.5885,  0.2372, -0.1451]])"
      ]
     },
     "execution_count": 54,
     "metadata": {},
     "output_type": "execute_result"
    }
   ],
   "source": [
    "gradient[0]"
   ]
  },
  {
   "cell_type": "code",
   "execution_count": 71,
   "metadata": {},
   "outputs": [
    {
     "ename": "RuntimeError",
     "evalue": "Can't call numpy() on Tensor that requires grad. Use tensor.detach().numpy() instead.",
     "output_type": "error",
     "traceback": [
      "\u001b[0;31m---------------------------------------------------------------------------\u001b[0m",
      "\u001b[0;31mRuntimeError\u001b[0m                              Traceback (most recent call last)",
      "Cell \u001b[0;32mIn[71], line 2\u001b[0m\n\u001b[1;32m      1\u001b[0m ys_torch_last_step_detached \u001b[39m=\u001b[39m ys_torch_last_step\u001b[39m.\u001b[39mdetach()\n\u001b[0;32m----> 2\u001b[0m loss_val, _ \u001b[39m=\u001b[39m loss(torch\u001b[39m.\u001b[39;49mtensor(ytrue_np, dtype\u001b[39m=\u001b[39;49mtorch\u001b[39m.\u001b[39;49mfloat32), ys_torch_last_step_detached, W\u001b[39m=\u001b[39;49mparams[\u001b[39m\"\u001b[39;49m\u001b[39mW\u001b[39;49m\u001b[39m\"\u001b[39;49m], l1\u001b[39m=\u001b[39;49m\u001b[39m0.1\u001b[39;49m, l2\u001b[39m=\u001b[39;49m\u001b[39m0.01\u001b[39;49m)\n\u001b[1;32m      3\u001b[0m gradient \u001b[39m=\u001b[39m torch\u001b[39m.\u001b[39mautograd\u001b[39m.\u001b[39mgrad(loss_val, params[\u001b[39m\"\u001b[39m\u001b[39mW\u001b[39m\u001b[39m\"\u001b[39m])\n\u001b[1;32m      4\u001b[0m gradient[\u001b[39m0\u001b[39m][\u001b[39m0\u001b[39m, :\u001b[39m50\u001b[39m]\n",
      "File \u001b[0;32m~/Documents/cellbox-jun-6/cellbox/cellbox/utils.py:19\u001b[0m, in \u001b[0;36mloss\u001b[0;34m(x_gold, x_hat, W, l1, l2, weight)\u001b[0m\n\u001b[1;32m     17\u001b[0m \u001b[39mwith\u001b[39;00m tf\u001b[39m.\u001b[39mcompat\u001b[39m.\u001b[39mv1\u001b[39m.\u001b[39mvariable_scope(\u001b[39m\"\u001b[39m\u001b[39mloss\u001b[39m\u001b[39m\"\u001b[39m, reuse\u001b[39m=\u001b[39m\u001b[39mTrue\u001b[39;00m):\n\u001b[1;32m     18\u001b[0m     loss_mse \u001b[39m=\u001b[39m tf\u001b[39m.\u001b[39mreduce_mean(tf\u001b[39m.\u001b[39msquare(x_gold \u001b[39m-\u001b[39m x_hat) \u001b[39m*\u001b[39m tf\u001b[39m.\u001b[39mabs(weight))\n\u001b[0;32m---> 19\u001b[0m     l1_loss \u001b[39m=\u001b[39m l1 \u001b[39m*\u001b[39m tf\u001b[39m.\u001b[39mreduce_sum(tf\u001b[39m.\u001b[39;49mabs(W))\n\u001b[1;32m     20\u001b[0m     l2_loss \u001b[39m=\u001b[39m l2 \u001b[39m*\u001b[39m tf\u001b[39m.\u001b[39mreduce_sum(tf\u001b[39m.\u001b[39msquare(tf\u001b[39m.\u001b[39mabs(W)))\n\u001b[1;32m     21\u001b[0m     loss_full \u001b[39m=\u001b[39m loss_mse \u001b[39m+\u001b[39m l1_loss \u001b[39m+\u001b[39m l2_loss\n",
      "File \u001b[0;32m~/anaconda3/envs/cellbox-3.6-2/lib/python3.8/site-packages/tensorflow/python/util/traceback_utils.py:153\u001b[0m, in \u001b[0;36mfilter_traceback.<locals>.error_handler\u001b[0;34m(*args, **kwargs)\u001b[0m\n\u001b[1;32m    151\u001b[0m \u001b[39mexcept\u001b[39;00m \u001b[39mException\u001b[39;00m \u001b[39mas\u001b[39;00m e:\n\u001b[1;32m    152\u001b[0m   filtered_tb \u001b[39m=\u001b[39m _process_traceback_frames(e\u001b[39m.\u001b[39m__traceback__)\n\u001b[0;32m--> 153\u001b[0m   \u001b[39mraise\u001b[39;00m e\u001b[39m.\u001b[39mwith_traceback(filtered_tb) \u001b[39mfrom\u001b[39;00m \u001b[39mNone\u001b[39m\n\u001b[1;32m    154\u001b[0m \u001b[39mfinally\u001b[39;00m:\n\u001b[1;32m    155\u001b[0m   \u001b[39mdel\u001b[39;00m filtered_tb\n",
      "File \u001b[0;32m~/anaconda3/envs/cellbox-3.6-2/lib/python3.8/site-packages/torch/_tensor.py:970\u001b[0m, in \u001b[0;36mTensor.__array__\u001b[0;34m(self, dtype)\u001b[0m\n\u001b[1;32m    968\u001b[0m     \u001b[39mreturn\u001b[39;00m handle_torch_function(Tensor\u001b[39m.\u001b[39m__array__, (\u001b[39mself\u001b[39m,), \u001b[39mself\u001b[39m, dtype\u001b[39m=\u001b[39mdtype)\n\u001b[1;32m    969\u001b[0m \u001b[39mif\u001b[39;00m dtype \u001b[39mis\u001b[39;00m \u001b[39mNone\u001b[39;00m:\n\u001b[0;32m--> 970\u001b[0m     \u001b[39mreturn\u001b[39;00m \u001b[39mself\u001b[39;49m\u001b[39m.\u001b[39;49mnumpy()\n\u001b[1;32m    971\u001b[0m \u001b[39melse\u001b[39;00m:\n\u001b[1;32m    972\u001b[0m     \u001b[39mreturn\u001b[39;00m \u001b[39mself\u001b[39m\u001b[39m.\u001b[39mnumpy()\u001b[39m.\u001b[39mastype(dtype, copy\u001b[39m=\u001b[39m\u001b[39mFalse\u001b[39;00m)\n",
      "\u001b[0;31mRuntimeError\u001b[0m: Can't call numpy() on Tensor that requires grad. Use tensor.detach().numpy() instead."
     ]
    }
   ],
   "source": [
    "ys_torch_last_step_detached = ys_torch_last_step.detach()\n",
    "loss_val, _ = loss(torch.tensor(ytrue_np, dtype=torch.float32), ys_torch_last_step_detached, W=params[\"W\"], l1=0.1, l2=0.01)\n",
    "gradient = torch.autograd.grad(loss_val, params[\"W\"])"
   ]
  },
  {
   "cell_type": "code",
   "execution_count": 11,
   "metadata": {},
   "outputs": [
    {
     "data": {
      "text/plain": [
       "tensor([ 0.6920,  0.3076, -0.7879,  0.4600,  0.4459, -0.1765,  0.3411,  0.0888,\n",
       "        -0.5380, -0.1136,  0.0344, -0.3713, -0.5647, -0.4160,  0.4748, -0.0288,\n",
       "        -0.3091, -0.0975,  0.6124,  0.0067,  0.0576, -0.3814, -0.5438,  0.3148,\n",
       "         0.2547, -0.5764,  0.1251,  0.1282,  0.2024,  0.5642,  0.0872, -0.3702,\n",
       "        -0.3329, -0.0548, -0.2371, -0.5608,  0.4198, -0.8708, -0.1430,  0.3199,\n",
       "        -0.2626, -0.2490,  0.8195, -0.2636,  0.0140,  0.0593, -0.1501, -0.0734,\n",
       "         0.4719, -0.5692])"
      ]
     },
     "execution_count": 11,
     "metadata": {},
     "output_type": "execute_result"
    }
   ],
   "source": [
    "gradient[0][0, :50]"
   ]
  }
 ],
 "metadata": {
  "kernelspec": {
   "display_name": "cellbox-3.6-2",
   "language": "python",
   "name": "python3"
  },
  "language_info": {
   "codemirror_mode": {
    "name": "ipython",
    "version": 3
   },
   "file_extension": ".py",
   "mimetype": "text/x-python",
   "name": "python",
   "nbconvert_exporter": "python",
   "pygments_lexer": "ipython3",
   "version": "3.8.0"
  },
  "orig_nbformat": 4
 },
 "nbformat": 4,
 "nbformat_minor": 2
}
